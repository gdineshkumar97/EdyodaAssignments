{
 "cells": [
  {
   "cell_type": "markdown",
   "id": "42dcde3a",
   "metadata": {},
   "source": [
    " ##  <center>Edyoda Machine Learning Assignment </center>\n",
    "### Assignment-1.2 Cluster similar Houses"
   ]
  },
  {
   "cell_type": "markdown",
   "id": "6fd413db",
   "metadata": {},
   "source": [
    "#### Name : Dineshkumar G\n",
    "#### Batch : DS140821\n",
    "#### Instructor : Pranav"
   ]
  },
  {
   "cell_type": "markdown",
   "id": "fec3cdb1",
   "metadata": {},
   "source": [
    "#### Question 1:  Data cleaning & getting rid of irrelevant information before clustering."
   ]
  },
  {
   "cell_type": "code",
   "execution_count": null,
   "id": "af2481d4",
   "metadata": {},
   "outputs": [],
   "source": []
  },
  {
   "cell_type": "markdown",
   "id": "d10b7106",
   "metadata": {},
   "source": [
    "#### Question 2:  Finding the optimal value of k."
   ]
  },
  {
   "cell_type": "code",
   "execution_count": null,
   "id": "f87c5eb3",
   "metadata": {},
   "outputs": [],
   "source": []
  },
  {
   "cell_type": "markdown",
   "id": "9ba1a3cb",
   "metadata": {},
   "source": [
    "#### Question 3: Storing cluster to which the house belongs along with the data "
   ]
  },
  {
   "cell_type": "code",
   "execution_count": null,
   "id": "644b92b6",
   "metadata": {},
   "outputs": [],
   "source": []
  }
 ],
 "metadata": {
  "kernelspec": {
   "display_name": "Python 3",
   "language": "python",
   "name": "python3"
  },
  "language_info": {
   "codemirror_mode": {
    "name": "ipython",
    "version": 3
   },
   "file_extension": ".py",
   "mimetype": "text/x-python",
   "name": "python",
   "nbconvert_exporter": "python",
   "pygments_lexer": "ipython3",
   "version": "3.8.8"
  }
 },
 "nbformat": 4,
 "nbformat_minor": 5
}
