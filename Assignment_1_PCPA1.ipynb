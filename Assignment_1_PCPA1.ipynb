{
 "cells": [
  {
   "cell_type": "markdown",
   "id": "42dcde3a",
   "metadata": {},
   "source": [
    " ##  <center>Edyoda Python Assignment </center>\n",
    "### Assignment-1: Hackerrank Questions"
   ]
  },
  {
   "cell_type": "markdown",
   "id": "6fd413db",
   "metadata": {},
   "source": [
    "#### Name : Dineshkumar G\n",
    "#### Batch : DS140821\n",
    "#### Instructor : Mohit Chouhan"
   ]
  },
  {
   "cell_type": "markdown",
   "id": "fec3cdb1",
   "metadata": {},
   "source": [
    "#### 1) Finding the percentage"
   ]
  },
  {
   "cell_type": "code",
   "execution_count": 44,
   "id": "3d01f935",
   "metadata": {},
   "outputs": [
    {
     "name": "stdout",
     "output_type": "stream",
     "text": [
      "3\n",
      "Krishna 67 68 69\n",
      "Arjun 70 98 63\n",
      "Malika 52 56 60\n",
      "Malika\n",
      "56.00\n"
     ]
    }
   ],
   "source": [
    "n = int(input())\n",
    "student_dict={}\n",
    "for i in range(0,n):\n",
    "    student_details = input('').split(' ')\n",
    "    student_dict[student_details[0]] = [float(i) for i in student_details[1:]]\n",
    "name = input()\n",
    "def average(student_dict,name):\n",
    "    try:\n",
    "        for key,value in student_dict.items():\n",
    "            if key == name:\n",
    "                print('{:.2f}'.format(sum(value)/len(value)))\n",
    "            else:\n",
    "                pass\n",
    "    except:\n",
    "        print('The name you entered is not found')\n",
    "\n",
    "average(student_dict,name)"
   ]
  },
  {
   "cell_type": "markdown",
   "id": "dac6a263",
   "metadata": {},
   "source": [
    "#### 2) String Split and Join"
   ]
  },
  {
   "cell_type": "code",
   "execution_count": 46,
   "id": "c4e84c67",
   "metadata": {},
   "outputs": [
    {
     "data": {
      "text/plain": [
       "'this-is-a-string'"
      ]
     },
     "execution_count": 46,
     "metadata": {},
     "output_type": "execute_result"
    }
   ],
   "source": [
    "def split_and_join(line):\n",
    "    result = ''.join(line.replace(' ','-'))\n",
    "    return result\n",
    "split_and_join('this is a string')"
   ]
  },
  {
   "cell_type": "code",
   "execution_count": 47,
   "id": "9295e00f",
   "metadata": {},
   "outputs": [
    {
     "data": {
      "text/plain": [
       "'this-is-a-string'"
      ]
     },
     "execution_count": 47,
     "metadata": {},
     "output_type": "execute_result"
    }
   ],
   "source": [
    "def split_and_join(line):\n",
    "    splitted = line.split(' ')\n",
    "    result = '-'.join(splitted)\n",
    "    return result\n",
    "split_and_join('this is a string')"
   ]
  },
  {
   "cell_type": "markdown",
   "id": "fee21ad4",
   "metadata": {},
   "source": [
    "#### 3)Set .intersection() Operation"
   ]
  },
  {
   "cell_type": "code",
   "execution_count": 12,
   "id": "13e962ab",
   "metadata": {},
   "outputs": [
    {
     "name": "stdout",
     "output_type": "stream",
     "text": [
      "9\n",
      "1 2 3 4 5 6 7 8 9\n",
      "9\n",
      "10 1 2 3 11 21 55 6 8\n",
      "5\n"
     ]
    }
   ],
   "source": [
    "n1 = int(input())\n",
    "l1 = list(map(int,input().split(' ')))[:n1]\n",
    "s1 = set(l1)\n",
    "n2 = int(input())\n",
    "l2 = list(map(int,input().split(' ')))[:n2]\n",
    "s2 = set(l2)\n",
    "intersect = len(s1.intersection(s2))\n",
    "print(intersect)"
   ]
  },
  {
   "cell_type": "markdown",
   "id": "ffc356e4",
   "metadata": {},
   "source": [
    "#### 4)Find the Runner-Up Score!"
   ]
  },
  {
   "cell_type": "code",
   "execution_count": 14,
   "id": "8b1ceb29",
   "metadata": {},
   "outputs": [
    {
     "name": "stdout",
     "output_type": "stream",
     "text": [
      "5\n",
      "2 3 6 6 5\n",
      "5\n"
     ]
    }
   ],
   "source": [
    "n = int(input())\n",
    "list_of_numbers = list(map(int,input().split(' ')))[:n]\n",
    "first_max = max(list_of_numbers)\n",
    "\n",
    "new_list = []\n",
    "for i in list_of_numbers:\n",
    "    if i == first_max:\n",
    "        pass\n",
    "    else:\n",
    "        new_list.append(i)\n",
    "second_max = max(new_list)\n",
    "print(second_max)"
   ]
  },
  {
   "cell_type": "markdown",
   "id": "9dc3c399",
   "metadata": {},
   "source": [
    "#### 5)sWAP cASE"
   ]
  },
  {
   "cell_type": "code",
   "execution_count": 17,
   "id": "35afc1c3",
   "metadata": {},
   "outputs": [
    {
     "data": {
      "text/plain": [
       "'pYTHONIST 2'"
      ]
     },
     "execution_count": 17,
     "metadata": {},
     "output_type": "execute_result"
    }
   ],
   "source": [
    "def swap_case(s):\n",
    "    x = [i for i in s]\n",
    "    new_list = []\n",
    "    for i in x:\n",
    "        if i.isupper():\n",
    "            new_list.append(i.lower())\n",
    "        elif i.islower():\n",
    "            new_list.append(i.upper())\n",
    "        else:\n",
    "            new_list.append(i)\n",
    "    return ''.join(new_list)\n",
    "swap_case('Pythonist 2')"
   ]
  },
  {
   "cell_type": "markdown",
   "id": "4b9cd9af",
   "metadata": {},
   "source": [
    "#### 6) Arithmetic Operators"
   ]
  },
  {
   "cell_type": "code",
   "execution_count": 19,
   "id": "53da1c38",
   "metadata": {},
   "outputs": [
    {
     "name": "stdout",
     "output_type": "stream",
     "text": [
      "3\n",
      "5\n",
      "8\n",
      "-2\n",
      "15\n"
     ]
    }
   ],
   "source": [
    "a = int(input())\n",
    "b = int(input())\n",
    "print('{}\\n{}\\n{}'.format(a+b,a-b,a*b))"
   ]
  },
  {
   "cell_type": "markdown",
   "id": "0f0b4a51",
   "metadata": {},
   "source": [
    "#### 7) Python: Division"
   ]
  },
  {
   "cell_type": "code",
   "execution_count": 20,
   "id": "97b7f3ea",
   "metadata": {},
   "outputs": [
    {
     "name": "stdout",
     "output_type": "stream",
     "text": [
      "3\n",
      "5\n",
      "0\n",
      "0.6\n",
      "\n"
     ]
    }
   ],
   "source": [
    "a = int(input())\n",
    "b = int(input())\n",
    "print('{}\\n{}\\n'.format(a//b,a/b))"
   ]
  },
  {
   "cell_type": "markdown",
   "id": "d1dba2d9",
   "metadata": {},
   "source": [
    "#### 8) Python If-Else"
   ]
  },
  {
   "cell_type": "code",
   "execution_count": 21,
   "id": "280b8eb5",
   "metadata": {},
   "outputs": [
    {
     "name": "stdout",
     "output_type": "stream",
     "text": [
      "3\n",
      "Weird\n"
     ]
    }
   ],
   "source": [
    "n = int(input().strip())\n",
    "if (n % 2 != 0) or (n % 2 == 0 and n in range(6,21)):\n",
    "    print('Weird')\n",
    "elif (n % 2 == 0 and n in range(2,6) or (n % 2 == 0 and n > 20)) :\n",
    "    print('Not Weird')"
   ]
  },
  {
   "cell_type": "markdown",
   "id": "9aacefdc",
   "metadata": {},
   "source": [
    "#### 9) Nested Lists"
   ]
  },
  {
   "cell_type": "code",
   "execution_count": 35,
   "id": "d568271b",
   "metadata": {},
   "outputs": [
    {
     "name": "stdout",
     "output_type": "stream",
     "text": [
      "4\n",
      "Hina\n",
      "20\n",
      "Shina\n",
      "20.1\n",
      "Mina\n",
      "20.01\n",
      "Tina\n",
      "20.001\n",
      "Tina\n"
     ]
    }
   ],
   "source": [
    "n = int(input())\n",
    "python_students = []\n",
    "for i in range(0,n):\n",
    "    name = input()\n",
    "    mark = float(input())\n",
    "    python_students.append([name,mark])\n",
    "low_list = []\n",
    "low_list_marks= []\n",
    "first_low_grade = python_students[0][1]\n",
    "for v in python_students:\n",
    "    if v[1] < first_low_grade:\n",
    "        first_low_grade = v[1]\n",
    "    else:\n",
    "        low_list.append(v)\n",
    "        low_list_marks.append(v[1])\n",
    "n_list1 = []\n",
    "for i in low_list:\n",
    "    if i[1]==first_low_grade:\n",
    "        pass\n",
    "    else:\n",
    "        n_list1.append(i)\n",
    "min_n = n_list1[0][1]\n",
    "for i in n_list1:\n",
    "    if i[1] < min_n:\n",
    "        min_n = i[1]\n",
    "for i in sorted(n_list1):\n",
    "    if i[1]==min_n:\n",
    "        print(i[0])"
   ]
  },
  {
   "cell_type": "markdown",
   "id": "ee038e89",
   "metadata": {},
   "source": [
    "#### 10) Loops"
   ]
  },
  {
   "cell_type": "code",
   "execution_count": 76,
   "id": "8225bdb5",
   "metadata": {},
   "outputs": [
    {
     "name": "stdout",
     "output_type": "stream",
     "text": [
      "5\n",
      "0\n",
      "1\n",
      "4\n",
      "9\n",
      "16\n"
     ]
    }
   ],
   "source": [
    "n = int(input())\n",
    "for i in range(0,n):\n",
    "    print(i**2)"
   ]
  },
  {
   "cell_type": "markdown",
   "id": "c59a66bc",
   "metadata": {},
   "source": [
    "#### 11) Write a function"
   ]
  },
  {
   "cell_type": "code",
   "execution_count": 78,
   "id": "b4ad494b",
   "metadata": {},
   "outputs": [
    {
     "data": {
      "text/plain": [
       "False"
      ]
     },
     "execution_count": 78,
     "metadata": {},
     "output_type": "execute_result"
    }
   ],
   "source": [
    "def is_leap(year):\n",
    "    leap = False\n",
    "    if (year%100 == 0): \n",
    "        if year %400 ==0:\n",
    "            leap = True\n",
    "    elif year%4==0:\n",
    "        leap = True\n",
    "    return leap\n",
    "is_leap(1990)"
   ]
  },
  {
   "cell_type": "markdown",
   "id": "6643ed7a",
   "metadata": {},
   "source": [
    "#### 12) Find a string"
   ]
  },
  {
   "cell_type": "code",
   "execution_count": 18,
   "id": "164e0102",
   "metadata": {},
   "outputs": [],
   "source": [
    "def count_substring(string, sub_string):\n",
    "    n = len(string)\n",
    "    count=0\n",
    "    for i in range(0,n):\n",
    "        if string[i:].startswith(sub_string):\n",
    "            count+=1\n",
    "    return count"
   ]
  },
  {
   "cell_type": "code",
   "execution_count": 19,
   "id": "02b30d99",
   "metadata": {},
   "outputs": [
    {
     "data": {
      "text/plain": [
       "2"
      ]
     },
     "execution_count": 19,
     "metadata": {},
     "output_type": "execute_result"
    }
   ],
   "source": [
    "count_substring(string='ABCDCDC',sub_string='CDC')"
   ]
  },
  {
   "cell_type": "markdown",
   "id": "c1ead050",
   "metadata": {},
   "source": [
    "#### 13) Lists"
   ]
  },
  {
   "cell_type": "code",
   "execution_count": 17,
   "id": "43db61e4",
   "metadata": {},
   "outputs": [
    {
     "name": "stdout",
     "output_type": "stream",
     "text": [
      "12\n",
      "insert 0 5\n",
      "insert 1 10\n",
      "insert 0 6\n",
      "print\n",
      "[6, 5, 10]\n",
      "remove 6\n",
      "append 9\n",
      "append 1\n",
      "sort\n",
      "print\n",
      "[1, 5, 9, 10]\n",
      "pop\n",
      "reverse\n",
      "print\n",
      "[9, 5, 1]\n"
     ]
    }
   ],
   "source": [
    "n = int(input())\n",
    "list1 = []\n",
    "for i in range(n):\n",
    "    list_operations = input().split()\n",
    "    if list_operations[0]=='append':\n",
    "        #append\n",
    "        for i in list_operations[1:]:\n",
    "            list1.append(int(i))\n",
    "    elif list_operations[0]=='insert':\n",
    "        #insert\n",
    "        index = int(list_operations[1])\n",
    "        list1.insert(index,int(list_operations[2]))\n",
    "    elif list_operations[0]=='print':\n",
    "        #print\n",
    "        print(list1)\n",
    "    elif list_operations[0]=='remove':\n",
    "        list1.remove(int(list_operations[1]))\n",
    "    elif list_operations[0]=='sort':\n",
    "        list1.sort()\n",
    "    elif list_operations[0]=='pop':\n",
    "        list1.pop()\n",
    "    elif list_operations[0]=='reverse':\n",
    "        list1.reverse()"
   ]
  }
 ],
 "metadata": {
  "kernelspec": {
   "display_name": "Python 3",
   "language": "python",
   "name": "python3"
  },
  "language_info": {
   "codemirror_mode": {
    "name": "ipython",
    "version": 3
   },
   "file_extension": ".py",
   "mimetype": "text/x-python",
   "name": "python",
   "nbconvert_exporter": "python",
   "pygments_lexer": "ipython3",
   "version": "3.8.8"
  }
 },
 "nbformat": 4,
 "nbformat_minor": 5
}
