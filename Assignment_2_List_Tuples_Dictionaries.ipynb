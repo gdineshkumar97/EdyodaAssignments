{
 "cells": [
  {
   "cell_type": "markdown",
   "id": "c46ddee9",
   "metadata": {},
   "source": [
    " ##  <center>Edyoda Python Assignment </center>\n",
    "### Assignment-2: List | Tuples | Dictionaries"
   ]
  },
  {
   "cell_type": "markdown",
   "id": "eb067118",
   "metadata": {},
   "source": [
    "#### Name : Dineshkumar G\n",
    "#### Batch : DS140821\n",
    "#### Instructor : Mohit Chouhan"
   ]
  },
  {
   "cell_type": "markdown",
   "id": "4adf4a4a",
   "metadata": {},
   "source": [
    "#### Question 1: Write a Python program to get a list, sorted in increasing order by the last element in each tuple from a given list of non-empty tuples"
   ]
  },
  {
   "cell_type": "code",
   "execution_count": 2,
   "id": "b4523602",
   "metadata": {},
   "outputs": [
    {
     "name": "stdout",
     "output_type": "stream",
     "text": [
      "Before sorting list : [(2, 5), (1, 2), (4, 4), (2, 3), (2, 1)]\n",
      "New sorted list : [(2, 1), (1, 2), (2, 3), (4, 4), (2, 5)]\n"
     ]
    }
   ],
   "source": [
    "lst = [(2, 5), (1, 2), (4, 4), (2, 3), (2, 1)]\n",
    "\n",
    "#Solution1:\n",
    "print('Before sorting list :',lst)\n",
    "sorted_list=sorted(lst,key=lambda x:x[1])\n",
    "print('New sorted list :',sorted_list)\n",
    "\n",
    "\n",
    "#[(2, 1), (1, 2), (2, 3), (4, 4), (2, 5)]"
   ]
  },
  {
   "cell_type": "markdown",
   "id": "417c4225",
   "metadata": {},
   "source": [
    "#### Question 1: Write a Python program to print a dictionary whose keys should be the alphabet from a-z and the value should be corresponding ASCII values"
   ]
  },
  {
   "cell_type": "code",
   "execution_count": 3,
   "id": "36c70e28",
   "metadata": {},
   "outputs": [
    {
     "name": "stdout",
     "output_type": "stream",
     "text": [
      "ASCII value of alphabets :/n {'a': 97, 'b': 98, 'c': 99, 'd': 100, 'e': 101, 'f': 102, 'g': 103, 'h': 104, 'i': 105, 'j': 106, 'k': 107, 'l': 108, 'm': 109, 'n': 110, 'o': 111, 'p': 112, 'q': 113, 'r': 114, 's': 115, 't': 116, 'u': 117, 'v': 118, 'w': 119, 'x': 120, 'y': 121, 'z': 122}\n"
     ]
    }
   ],
   "source": [
    "alpha_ascii_keys={}\n",
    "\n",
    "for value in range(ord('a'),ord('z')+1):\n",
    "    alpha_ascii_keys[chr(value)]=value\n",
    "print('ASCII value of alphabets :'+'/n',alpha_ascii_keys)"
   ]
  },
  {
   "cell_type": "code",
   "execution_count": null,
   "id": "83e479e7",
   "metadata": {},
   "outputs": [],
   "source": []
  }
 ],
 "metadata": {
  "kernelspec": {
   "display_name": "Python 3",
   "language": "python",
   "name": "python3"
  },
  "language_info": {
   "codemirror_mode": {
    "name": "ipython",
    "version": 3
   },
   "file_extension": ".py",
   "mimetype": "text/x-python",
   "name": "python",
   "nbconvert_exporter": "python",
   "pygments_lexer": "ipython3",
   "version": "3.8.8"
  }
 },
 "nbformat": 4,
 "nbformat_minor": 5
}
