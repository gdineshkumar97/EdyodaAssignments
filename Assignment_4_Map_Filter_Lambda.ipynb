{
 "cells": [
  {
   "cell_type": "markdown",
   "id": "42dcde3a",
   "metadata": {},
   "source": [
    " ##  <center>Edyoda Python Assignment </center>\n",
    "### Assignment-4: Map | Filter | Lambda"
   ]
  },
  {
   "cell_type": "markdown",
   "id": "6fd413db",
   "metadata": {},
   "source": [
    "#### Name : Dineshkumar G\n",
    "#### Batch : DS140821\n",
    "#### Instructor : Mohit Chouhan"
   ]
  },
  {
   "cell_type": "markdown",
   "id": "fec3cdb1",
   "metadata": {},
   "source": [
    "#### Question 1:  Write a Python program to create a lambda function that adds 25 to a given number passed in as an argument."
   ]
  },
  {
   "cell_type": "code",
   "execution_count": 1,
   "id": "af2481d4",
   "metadata": {},
   "outputs": [
    {
     "data": {
      "text/plain": [
       "35"
      ]
     },
     "execution_count": 1,
     "metadata": {},
     "output_type": "execute_result"
    }
   ],
   "source": [
    "lf = lambda num:num+25 \n",
    "lf(10)"
   ]
  },
  {
   "cell_type": "markdown",
   "id": "d10b7106",
   "metadata": {},
   "source": [
    "#### Question 2:  Write a Python program to triple all numbers of a given list of integers. Use Python map."
   ]
  },
  {
   "cell_type": "code",
   "execution_count": 2,
   "id": "735aa2a0",
   "metadata": {},
   "outputs": [
    {
     "data": {
      "text/plain": [
       "[3, 6, 9, 12, 15, 18, 21]"
      ]
     },
     "execution_count": 2,
     "metadata": {},
     "output_type": "execute_result"
    }
   ],
   "source": [
    "lst = [1,2,3,4,5,6,7]\n",
    "list(map(lambda x:x*3,lst))"
   ]
  },
  {
   "cell_type": "markdown",
   "id": "8e3c8c9c",
   "metadata": {},
   "source": [
    "#### Question 3:  Write a Python program to square the elements of a list using map() function."
   ]
  },
  {
   "cell_type": "code",
   "execution_count": 3,
   "id": "1594248b",
   "metadata": {},
   "outputs": [
    {
     "data": {
      "text/plain": [
       "[16, 25, 4, 81]"
      ]
     },
     "execution_count": 3,
     "metadata": {},
     "output_type": "execute_result"
    }
   ],
   "source": [
    "lst2 = [4, 5, 2, 9]\n",
    "list(map(lambda x:x**2,lst2))"
   ]
  }
 ],
 "metadata": {
  "kernelspec": {
   "display_name": "Python 3",
   "language": "python",
   "name": "python3"
  },
  "language_info": {
   "codemirror_mode": {
    "name": "ipython",
    "version": 3
   },
   "file_extension": ".py",
   "mimetype": "text/x-python",
   "name": "python",
   "nbconvert_exporter": "python",
   "pygments_lexer": "ipython3",
   "version": "3.8.8"
  }
 },
 "nbformat": 4,
 "nbformat_minor": 5
}
