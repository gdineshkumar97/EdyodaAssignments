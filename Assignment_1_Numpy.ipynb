{
 "cells": [
  {
   "cell_type": "markdown",
   "id": "42dcde3a",
   "metadata": {},
   "source": [
    " ##  <center>Edyoda Data Wrangling Assignment </center>\n",
    "### Assignment-1: NumPy"
   ]
  },
  {
   "cell_type": "markdown",
   "id": "6fd413db",
   "metadata": {},
   "source": [
    "#### Name : Dineshkumar G\n",
    "#### Batch : DS140821\n",
    "#### Instructor : Shiva Reddy"
   ]
  },
  {
   "cell_type": "markdown",
   "id": "fec3cdb1",
   "metadata": {},
   "source": [
    "#### Question 1:  Create a null vector of size 10 but the fifth value which is 1."
   ]
  },
  {
   "cell_type": "code",
   "execution_count": 1,
   "id": "af2481d4",
   "metadata": {},
   "outputs": [
    {
     "name": "stdout",
     "output_type": "stream",
     "text": [
      "[0 0 0 0 1 0 0 0 0 0]\n"
     ]
    }
   ],
   "source": [
    "import numpy as np\n",
    "x = np.arange(10)==4\n",
    "y = x*1\n",
    "print(y)"
   ]
  },
  {
   "cell_type": "markdown",
   "id": "d10b7106",
   "metadata": {},
   "source": [
    "#### Question 2:  Create a vector with values ranging from 10 to 49."
   ]
  },
  {
   "cell_type": "code",
   "execution_count": 2,
   "id": "735aa2a0",
   "metadata": {},
   "outputs": [
    {
     "name": "stdout",
     "output_type": "stream",
     "text": [
      "[10 11 12 13 14 15 16 17 18 19 20 21 22 23 24 25 26 27 28 29 30 31 32 33\n",
      " 34 35 36 37 38 39 40 41 42 43 44 45 46 47 48 49]\n"
     ]
    }
   ],
   "source": [
    "nums = np.arange(10,50)\n",
    "print(nums)"
   ]
  },
  {
   "cell_type": "markdown",
   "id": "cc6c86ad",
   "metadata": {},
   "source": [
    "#### Question 3:  Create a 3x3 matrix with values ranging from 0 to 8."
   ]
  },
  {
   "cell_type": "code",
   "execution_count": 3,
   "id": "dfd97394",
   "metadata": {},
   "outputs": [
    {
     "data": {
      "text/plain": [
       "array([[0, 1, 2],\n",
       "       [3, 4, 5],\n",
       "       [6, 7, 8]])"
      ]
     },
     "execution_count": 3,
     "metadata": {},
     "output_type": "execute_result"
    }
   ],
   "source": [
    "array2d = np.arange(start = 0, stop= 9 )\n",
    "array2d.reshape(3,3)"
   ]
  },
  {
   "cell_type": "markdown",
   "id": "c40e98af",
   "metadata": {},
   "source": [
    "#### Question 4:  Find indices of non-zero elements from [1,2,0,0,4,0]."
   ]
  },
  {
   "cell_type": "code",
   "execution_count": 10,
   "id": "15ffadda",
   "metadata": {},
   "outputs": [
    {
     "name": "stdout",
     "output_type": "stream",
     "text": [
      "(array([0, 1, 4], dtype=int64),)\n"
     ]
    }
   ],
   "source": [
    "new = np.array([1,2,0,0,4,0])\n",
    "non_zero = new.nonzero()\n",
    "print(non_zero)"
   ]
  },
  {
   "cell_type": "markdown",
   "id": "87064eb0",
   "metadata": {},
   "source": [
    "#### Question 5:  Create a 10x10 array with random values and find the minimum and maximum values."
   ]
  },
  {
   "cell_type": "code",
   "execution_count": 78,
   "id": "2359a012",
   "metadata": {},
   "outputs": [
    {
     "name": "stdout",
     "output_type": "stream",
     "text": [
      "Array is\n",
      " [[99 51 14 76  9 65 32 24 28 53]\n",
      " [77 40 93 56 33 93 85  6 88 28]\n",
      " [33  8 20 17 82 63 60 43 40 79]\n",
      " [82 28 51 93 14 38 64 18 57 38]\n",
      " [ 2 65 61 89 28 70 10 30 50 67]\n",
      " [49 40 95 52 44 38 53 12 60 80]\n",
      " [59 62 85 24 54 13 96 64 95 38]\n",
      " [28 26 68 86 44  8 69 71 64 49]\n",
      " [44 11  8 62 13 57 56 41 33 49]\n",
      " [42 93 43 60  9  3 67 10 83 98]]\n",
      "Max val: 99\n",
      "Min val: 1\n"
     ]
    }
   ],
   "source": [
    "n = np.random.randint(low=1,high=101,size=(10,10))\n",
    "max_n = n.max()\n",
    "min_n = n.min()\n",
    "print('Array is\\n',x)\n",
    "print('Max val:',max_n)\n",
    "print('Min val:',min_n)"
   ]
  },
  {
   "cell_type": "markdown",
   "id": "e17c2097",
   "metadata": {},
   "source": [
    "#### Question 6:  Create a random vector of size 30 and find the mean value."
   ]
  },
  {
   "cell_type": "code",
   "execution_count": 81,
   "id": "5c40febc",
   "metadata": {},
   "outputs": [
    {
     "data": {
      "text/plain": [
       "0.4671507489648093"
      ]
     },
     "execution_count": 81,
     "metadata": {},
     "output_type": "execute_result"
    }
   ],
   "source": [
    "m = np.random.random(30)\n",
    "print('array is\\n',m)\n",
    "print('')\n",
    "m.mean()"
   ]
  },
  {
   "cell_type": "code",
   "execution_count": null,
   "id": "358a1b4f",
   "metadata": {},
   "outputs": [],
   "source": []
  }
 ],
 "metadata": {
  "kernelspec": {
   "display_name": "Python 3",
   "language": "python",
   "name": "python3"
  },
  "language_info": {
   "codemirror_mode": {
    "name": "ipython",
    "version": 3
   },
   "file_extension": ".py",
   "mimetype": "text/x-python",
   "name": "python",
   "nbconvert_exporter": "python",
   "pygments_lexer": "ipython3",
   "version": "3.8.8"
  }
 },
 "nbformat": 4,
 "nbformat_minor": 5
}
