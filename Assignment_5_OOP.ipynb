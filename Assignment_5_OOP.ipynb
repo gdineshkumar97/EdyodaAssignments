{
 "cells": [
  {
   "cell_type": "markdown",
   "id": "42dcde3a",
   "metadata": {},
   "source": [
    " ##  <center>Edyoda Python Assignment </center>\n",
    "### Assignment-5: OOPs"
   ]
  },
  {
   "cell_type": "markdown",
   "id": "6fd413db",
   "metadata": {},
   "source": [
    "#### Name : Dineshkumar G\n",
    "#### Batch : DS140821\n",
    "#### Instructor : Mohit Chouhan"
   ]
  },
  {
   "cell_type": "markdown",
   "id": "fec3cdb1",
   "metadata": {},
   "source": [
    "#### Question 1:  Write a Python class to implement pow(x, n)"
   ]
  },
  {
   "cell_type": "code",
   "execution_count": 1,
   "id": "af2481d4",
   "metadata": {},
   "outputs": [],
   "source": [
    "class Power:\n",
    "    def __init__(self,x,n):\n",
    "        self.x = x\n",
    "        self.n = n\n",
    "    def powerCalculate(self):\n",
    "        self.result = self.x**self.n\n",
    "        return self.result"
   ]
  },
  {
   "cell_type": "code",
   "execution_count": 2,
   "id": "9298a7a6",
   "metadata": {},
   "outputs": [],
   "source": [
    "dk = Power(10,2)"
   ]
  },
  {
   "cell_type": "code",
   "execution_count": 3,
   "id": "e0c69d0e",
   "metadata": {},
   "outputs": [
    {
     "data": {
      "text/plain": [
       "100"
      ]
     },
     "execution_count": 3,
     "metadata": {},
     "output_type": "execute_result"
    }
   ],
   "source": [
    "dk.powerCalculate()"
   ]
  }
 ],
 "metadata": {
  "kernelspec": {
   "display_name": "Python 3",
   "language": "python",
   "name": "python3"
  },
  "language_info": {
   "codemirror_mode": {
    "name": "ipython",
    "version": 3
   },
   "file_extension": ".py",
   "mimetype": "text/x-python",
   "name": "python",
   "nbconvert_exporter": "python",
   "pygments_lexer": "ipython3",
   "version": "3.8.8"
  }
 },
 "nbformat": 4,
 "nbformat_minor": 5
}
