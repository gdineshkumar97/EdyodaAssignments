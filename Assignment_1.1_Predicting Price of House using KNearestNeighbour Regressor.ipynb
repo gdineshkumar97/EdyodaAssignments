{
 "cells": [
  {
   "cell_type": "markdown",
   "id": "42dcde3a",
   "metadata": {},
   "source": [
    " ##  <center>Edyoda Machine Learning Assignment </center>\n",
    "### Assignment-1.1: Predicting Price of House using KNearestNeighbour Regressor"
   ]
  },
  {
   "cell_type": "markdown",
   "id": "6fd413db",
   "metadata": {},
   "source": [
    "#### Name : Dineshkumar G\n",
    "#### Batch : DS140821\n",
    "#### Instructor : Pranav"
   ]
  },
  {
   "cell_type": "markdown",
   "id": "fec3cdb1",
   "metadata": {},
   "source": [
    "#### Question 1:  Use pandas to get some insights into the data."
   ]
  },
  {
   "cell_type": "code",
   "execution_count": null,
   "id": "af2481d4",
   "metadata": {},
   "outputs": [],
   "source": []
  },
  {
   "cell_type": "markdown",
   "id": "d10b7106",
   "metadata": {},
   "source": [
    "#### Question 2:  Show some interesting visualization of the data."
   ]
  },
  {
   "cell_type": "code",
   "execution_count": null,
   "id": "93cf5cc1",
   "metadata": {},
   "outputs": [],
   "source": []
  },
  {
   "cell_type": "markdown",
   "id": "2f609d04",
   "metadata": {},
   "source": [
    "#### Question 3: Manage data for training & testing "
   ]
  },
  {
   "cell_type": "code",
   "execution_count": null,
   "id": "2ce1e614",
   "metadata": {},
   "outputs": [],
   "source": []
  },
  {
   "cell_type": "markdown",
   "id": "658aa62e",
   "metadata": {},
   "source": [
    "#### Question 4: Finding a better value of k"
   ]
  },
  {
   "cell_type": "code",
   "execution_count": null,
   "id": "45a7daf9",
   "metadata": {},
   "outputs": [],
   "source": []
  }
 ],
 "metadata": {
  "kernelspec": {
   "display_name": "Python 3",
   "language": "python",
   "name": "python3"
  },
  "language_info": {
   "codemirror_mode": {
    "name": "ipython",
    "version": 3
   },
   "file_extension": ".py",
   "mimetype": "text/x-python",
   "name": "python",
   "nbconvert_exporter": "python",
   "pygments_lexer": "ipython3",
   "version": "3.8.8"
  }
 },
 "nbformat": 4,
 "nbformat_minor": 5
}
