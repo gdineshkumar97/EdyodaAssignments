{
 "cells": [
  {
   "cell_type": "markdown",
   "id": "42dcde3a",
   "metadata": {},
   "source": [
    " ##  <center>Edyoda Data Analysis project </center>\n",
    "### Project-1: Covid - 19 Data Analysis Project using Python"
   ]
  },
  {
   "cell_type": "markdown",
   "id": "6fd413db",
   "metadata": {},
   "source": [
    "#### Name : Dineshkumar G\n",
    "#### Batch : DS140821\n",
    "#### Instructor : Mohit Chouhan"
   ]
  },
  {
   "cell_type": "markdown",
   "id": "fec3cdb1",
   "metadata": {},
   "source": [
    "#### Question 1:  Write a Python function to sum all the numbers in a list."
   ]
  },
  {
   "cell_type": "code",
   "execution_count": null,
   "id": "af2481d4",
   "metadata": {},
   "outputs": [],
   "source": []
  },
  {
   "cell_type": "markdown",
   "id": "d10b7106",
   "metadata": {},
   "source": [
    "#### Question 2:  Write a Python program to reverse a string."
   ]
  },
  {
   "cell_type": "code",
   "execution_count": 6,
   "id": "735aa2a0",
   "metadata": {},
   "outputs": [],
   "source": []
  }
 ],
 "metadata": {
  "kernelspec": {
   "display_name": "Python 3",
   "language": "python",
   "name": "python3"
  },
  "language_info": {
   "codemirror_mode": {
    "name": "ipython",
    "version": 3
   },
   "file_extension": ".py",
   "mimetype": "text/x-python",
   "name": "python",
   "nbconvert_exporter": "python",
   "pygments_lexer": "ipython3",
   "version": "3.8.8"
  }
 },
 "nbformat": 4,
 "nbformat_minor": 5
}
