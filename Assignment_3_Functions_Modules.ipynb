{
 "cells": [
  {
   "cell_type": "markdown",
   "id": "dcdb987d",
   "metadata": {},
   "source": [
    " ##  <center>Edyoda Python Assignment </center>\n",
    "### Assignment-3: Functions | Modules"
   ]
  },
  {
   "cell_type": "markdown",
   "id": "9c4d6279",
   "metadata": {},
   "source": [
    "#### Name : Dineshkumar G\n",
    "#### Batch : DS140821\n",
    "#### Instructor : Mohit Chouhan"
   ]
  },
  {
   "cell_type": "markdown",
   "id": "8d0aa253",
   "metadata": {},
   "source": [
    "#### Question 1:  Write a Python function to sum all the numbers in a list."
   ]
  },
  {
   "cell_type": "code",
   "execution_count": 1,
   "id": "7d981c8a",
   "metadata": {},
   "outputs": [
    {
     "data": {
      "text/plain": [
       "20"
      ]
     },
     "execution_count": 1,
     "metadata": {},
     "output_type": "execute_result"
    }
   ],
   "source": [
    "def sumofnum(lst):\n",
    "    ##Function definition iterable object\n",
    "    total=0\n",
    "    for number in lst:\n",
    "        total=total+number\n",
    "    return total\n",
    "\n",
    "sumofnum([8, 2, 3, 0, 7])"
   ]
  },
  {
   "cell_type": "markdown",
   "id": "871a7a18",
   "metadata": {},
   "source": [
    "#### Question 2:  Write a Python program to reverse a string."
   ]
  },
  {
   "cell_type": "code",
   "execution_count": 2,
   "id": "c3d93ae6",
   "metadata": {},
   "outputs": [],
   "source": [
    "#Solution 1: using indexing\n",
    "def reversestring1(string):\n",
    "    reversed_string=string[::-1]\n",
    "    return reversed_string"
   ]
  },
  {
   "cell_type": "code",
   "execution_count": 3,
   "id": "0bcbc60a",
   "metadata": {},
   "outputs": [
    {
     "data": {
      "text/plain": [
       "'dcba4321'"
      ]
     },
     "execution_count": 3,
     "metadata": {},
     "output_type": "execute_result"
    }
   ],
   "source": [
    "reversestring1(\"1234abcd\")"
   ]
  },
  {
   "cell_type": "code",
   "execution_count": 4,
   "id": "3969dafd",
   "metadata": {},
   "outputs": [],
   "source": [
    "#Solution 2: using range function\n",
    "def reversestring2(string):\n",
    "    lst=[]\n",
    "    for i in range(len(string)-1,-1,-1):\n",
    "        lst.append(string[i])\n",
    "    reversed_string = ''.join(lst)\n",
    "    return reversed_string"
   ]
  },
  {
   "cell_type": "code",
   "execution_count": 5,
   "id": "44559a0d",
   "metadata": {},
   "outputs": [
    {
     "data": {
      "text/plain": [
       "'dcba4321'"
      ]
     },
     "execution_count": 5,
     "metadata": {},
     "output_type": "execute_result"
    }
   ],
   "source": [
    "reversestring2(\"1234abcd\")"
   ]
  },
  {
   "cell_type": "markdown",
   "id": "a0d7e22b",
   "metadata": {},
   "source": [
    "#### Question 3:  Write a Python function that accepts a string and calculate the number of upper case letters and lower case letters."
   ]
  },
  {
   "cell_type": "code",
   "execution_count": 6,
   "id": "a86847d2",
   "metadata": {},
   "outputs": [],
   "source": [
    "def stringuprlwr(string):\n",
    "    upper_char = 0\n",
    "    lower_char = 0\n",
    "    for char in string:\n",
    "        if char.isupper():\n",
    "            upper_char=upper_char+1\n",
    "        elif char.islower():\n",
    "            lower_char=lower_char+1\n",
    "    print (f'No. of Upper case characters :{str(upper_char)}\\nNo. of Lower case characters :{str(lower_char)}')"
   ]
  },
  {
   "cell_type": "code",
   "execution_count": 7,
   "id": "7ca0f838",
   "metadata": {},
   "outputs": [
    {
     "name": "stdout",
     "output_type": "stream",
     "text": [
      "No. of Upper case characters :3\n",
      "No. of Lower case characters :12\n"
     ]
    }
   ],
   "source": [
    "stringuprlwr('The quick Brow Fox\"')"
   ]
  }
 ],
 "metadata": {
  "kernelspec": {
   "display_name": "Python 3",
   "language": "python",
   "name": "python3"
  },
  "language_info": {
   "codemirror_mode": {
    "name": "ipython",
    "version": 3
   },
   "file_extension": ".py",
   "mimetype": "text/x-python",
   "name": "python",
   "nbconvert_exporter": "python",
   "pygments_lexer": "ipython3",
   "version": "3.8.8"
  }
 },
 "nbformat": 4,
 "nbformat_minor": 5
}
