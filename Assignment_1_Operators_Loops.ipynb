{
 "cells": [
  {
   "cell_type": "markdown",
   "id": "f0214030",
   "metadata": {},
   "source": [
    " ##  <center>Edyoda Python Assignment </center>\n",
    "### Assignment-1: Operators | Loops "
   ]
  },
  {
   "cell_type": "markdown",
   "id": "749e9712",
   "metadata": {},
   "source": [
    "#### Name : Dineshkumar G\n",
    "#### Batch : DS140821\n",
    "#### Instructor : Mohit Chouhan"
   ]
  },
  {
   "cell_type": "markdown",
   "id": "12133b07",
   "metadata": {},
   "source": [
    "#### Question 1: Write a Python program to get the Fibonacci series between 0 to 50"
   ]
  },
  {
   "cell_type": "code",
   "execution_count": 1,
   "id": "17754ebf",
   "metadata": {},
   "outputs": [
    {
     "name": "stdout",
     "output_type": "stream",
     "text": [
      "Enter no of terms : 9\n",
      "1 1 2 3 5 8 13 21 34 "
     ]
    }
   ],
   "source": [
    "# Solution 1 : for this Expected Output : 1 1 2 3 5 8 13 21 34\n",
    "a = 1\n",
    "b = 1\n",
    "number = int(input('Enter no of terms : '))\n",
    "if number == 0:\n",
    "    print(a)\n",
    "elif number < 0:\n",
    "    print('Please enter a a positive number')\n",
    "else:\n",
    "    for i in range(0,number):\n",
    "        print(a,end = ' ' )\n",
    "        c = a+b\n",
    "        a = b\n",
    "        b = c"
   ]
  },
  {
   "cell_type": "code",
   "execution_count": 2,
   "id": "7c01ce42",
   "metadata": {},
   "outputs": [
    {
     "name": "stdout",
     "output_type": "stream",
     "text": [
      "Enter no of terms : 9\n",
      "0 1 1 2 3 5 8 13 21 "
     ]
    }
   ],
   "source": [
    "# Solution 2 : for this Expected Output : 0, 1, 1, 2, 3, 5, 8, 13, 21\n",
    "a = 0\n",
    "b = 1\n",
    "number = int(input('Enter no of terms : '))\n",
    "if number == 0:\n",
    "    print(a)\n",
    "elif number < 0:\n",
    "    print('Please enter a a positive number')\n",
    "else:\n",
    "    for i in range(0,number):\n",
    "        print(a,end = ' ' )\n",
    "        c = a+b\n",
    "        a = b\n",
    "        b = c"
   ]
  },
  {
   "cell_type": "markdown",
   "id": "1d7033bd",
   "metadata": {},
   "source": [
    "#### Question 2: Write a Python program that accepts a word from the user and reverse it."
   ]
  },
  {
   "cell_type": "code",
   "execution_count": 5,
   "id": "1054dcb7",
   "metadata": {},
   "outputs": [
    {
     "name": "stdout",
     "output_type": "stream",
     "text": [
      "Enter a string :Edyoda\n",
      "adoydE\n"
     ]
    }
   ],
   "source": [
    "string = input('Enter a string :')\n",
    "print(string[::-1])"
   ]
  },
  {
   "cell_type": "markdown",
   "id": "045247a0",
   "metadata": {},
   "source": [
    "#### Question 3: Write a Python program to count the number of even and odd numbers from a series of numbers. "
   ]
  },
  {
   "cell_type": "code",
   "execution_count": 4,
   "id": "1c5285cf",
   "metadata": {},
   "outputs": [
    {
     "name": "stdout",
     "output_type": "stream",
     "text": [
      "Number of even numbers : 4\n",
      "Number of odd numbers : 5\n"
     ]
    }
   ],
   "source": [
    "numbers = (1, 2, 3, 4, 5, 6, 7, 8, 9)\n",
    "odd_no_count = 0\n",
    "even_no_count = 0\n",
    "for num in numbers:\n",
    "    if num%2==0:\n",
    "        even_no_count+=1\n",
    "    else:\n",
    "        odd_no_count+=1\n",
    "print('Number of even numbers :',even_no_count)\n",
    "print('Number of odd numbers :',odd_no_count)"
   ]
  }
 ],
 "metadata": {
  "kernelspec": {
   "display_name": "Python 3",
   "language": "python",
   "name": "python3"
  },
  "language_info": {
   "codemirror_mode": {
    "name": "ipython",
    "version": 3
   },
   "file_extension": ".py",
   "mimetype": "text/x-python",
   "name": "python",
   "nbconvert_exporter": "python",
   "pygments_lexer": "ipython3",
   "version": "3.8.8"
  }
 },
 "nbformat": 4,
 "nbformat_minor": 5
}
